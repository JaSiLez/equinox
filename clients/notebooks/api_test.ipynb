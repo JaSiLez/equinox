{
 "cells": [
  {
   "cell_type": "code",
   "execution_count": 1,
   "id": "f0e40868",
   "metadata": {},
   "outputs": [],
   "source": [
    "import requests"
   ]
  },
  {
   "cell_type": "code",
   "execution_count": 4,
   "id": "bfeaaad4",
   "metadata": {},
   "outputs": [],
   "source": [
    "r = requests.get('http://localhost:8080/api')"
   ]
  },
  {
   "cell_type": "code",
   "execution_count": 6,
   "id": "9941c4ca",
   "metadata": {},
   "outputs": [
    {
     "name": "stdout",
     "output_type": "stream",
     "text": [
      "[{'Scorecard Data Endpoints': [{'scorecard': 'http://localhost:8080/api/portfolio_data/scorecards'}]}]\n"
     ]
    }
   ],
   "source": [
    "print(r.json())"
   ]
  },
  {
   "cell_type": "code",
   "execution_count": null,
   "id": "046a2eb8",
   "metadata": {},
   "outputs": [],
   "source": []
  }
 ],
 "metadata": {
  "kernelspec": {
   "display_name": "Python 3 (ipykernel)",
   "language": "python",
   "name": "python3"
  },
  "language_info": {
   "codemirror_mode": {
    "name": "ipython",
    "version": 3
   },
   "file_extension": ".py",
   "mimetype": "text/x-python",
   "name": "python",
   "nbconvert_exporter": "python",
   "pygments_lexer": "ipython3",
   "version": "3.9.12"
  }
 },
 "nbformat": 4,
 "nbformat_minor": 5
}
